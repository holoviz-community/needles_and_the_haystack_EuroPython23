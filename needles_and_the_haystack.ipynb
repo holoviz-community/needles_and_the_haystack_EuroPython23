{
 "cells": [
  {
   "cell_type": "markdown",
   "id": "ef842e00",
   "metadata": {},
   "source": [
    "<style>div.container { width: 100% }</style>\n",
    "<img style=\"float:left;  vertical-align:text-bottom;\" height=\"65\" width=\"172\" src=\"./assets/holoviz-logo-unstacked.svg\" />\n"
   ]
  },
  {
   "cell_type": "markdown",
   "id": "852ccd6e",
   "metadata": {},
   "source": [
    "# Seeing the needle AND the haystack: single-datapoint selection for billion-point datasets\n",
    "\n",
    "*How to view millions or billions of datapoints while allowing precise selection and exploration of the details of individual datapoints.*\n",
    "\n",
    "<div style=\"margin: 10px\">\n",
    "    <img style=\"margin:8px; display:inline; object-fit:scale-down; max-height:65px\" src=\"./assets/datashader.png\"/>\n",
    "    <img style=\"margin:8px; display:inline; object-fit:scale-down; max-height:65px\" src=\"./assets/bokeh.png\"/>\n",
    "    <img style=\"margin:8px; display:inline; object-fit:scale-down; max-height:65px\" src=\"./assets/holoviews.png\"/>\n",
    "    <img style=\"margin:8px; display:inline; object-fit:scale-down; max-height:70px\" src=\"./assets/numba.png\"/>\n",
    "</div>\n",
    "\n",
    "\n",
    "## 1: Visualizing large data is challenging\n",
    "\n",
    "#### Large datasets containing millions or billions of records have become common but there are very few tools that can visualize such datasets in their entirety. Even fewer tools also enable interactive exploration and inspection of entire datasets.\n",
    "\n",
    "* Data is cheap and plentiful but insight is expensive.\n",
    "* Most plotting tools are not designed to visualize gigabytes of data at a time.\n",
    "* *Overplotting* is one problem that arises as data density increases.\n",
    "* Expressing *large dynamic ranges* in the data can also be a problem as sample densities increase.\n",
    "* WebGL approaches (e.g. [`jupyter_scatter`](https://github.com/flekschas/jupyter-scatter)) improve the situation but are limited to the memory and compute resources of a browser tab\n",
    "\n",
    "### Datashader (datashader.org)\n",
    " \n",
    "In 2016, the datashader project set out to see if visualizing billions of samples at once in a meaningful way was possible. Using numba (numba.org) for speed, datashader demonstrated that meaningful, beautiful visualizations were indeed feasible. Here are some examples:\n",
    "\n",
    "<img src=\"https://datashader.org/assets/images/usa_census.jpg\" width=50%></img>\n",
    "<img src=\"https://datashader.org/assets/images/nyc_races.jpg\" width=50%></img>\n",
    "\n",
    "While the examples in this talk are geographic in nature, datashader can be used for anything! Here are some pretty mathematical attractors:\n",
    "\n",
    "<img src=\"https://datashader.org/assets/images/sym_attractors.jpg\" width=50%></img>\n",
    "\n",
    "\n",
    "Datashader solves the two key problems with large data as follows:\n",
    "\n",
    "* Overplotting: samples are *rasterized* to an image on screen by representing the data as a 2D histogram.\n",
    "* Large dynamic range (parameter-free): colormapping using *histogram equalization* makes much better use of colormaps without having any parameters to tune.\n",
    "\n",
    "While these are certainly pretty images in which you can spot patterns, it is not possible to query the data in any meaningful way (as these are static images).\n",
    "\n",
    "## 2. Example dataset: herring gull tracking\n",
    "\n",
    "To illustrate the datashader API, we will now load a relatively large public dataset. In particular, the [Research Institute for Nature and Forest (INBO)](https://www.vlaanderen.be/inbo/en-gb/homepage/) has been monitoring GPS locations of herring gulls breeding at the North Sea coast of Belgium since 2013. We will now load the 2018 portion of this data:"
   ]
  },
  {
   "cell_type": "code",
   "execution_count": null,
   "id": "fdc71dbb",
   "metadata": {},
   "outputs": [],
   "source": [
    "import pandas as pd\n",
    "import datashader as ds\n",
    "import colorcet"
   ]
  },
  {
   "cell_type": "code",
   "execution_count": null,
   "id": "e8888a1c",
   "metadata": {},
   "outputs": [],
   "source": [
    "df = pd.read_parquet('./data/gulls.parq') # Small for datashader, big for other approaches!\n",
    "print(f'There are {len(df)/1e6:.2f} million samples in this dataset')\n",
    "print(f'The columns of this dataframe are: {\", \".join(df.columns)}')"
   ]
  },
  {
   "cell_type": "markdown",
   "id": "6adb8f41",
   "metadata": {},
   "source": [
    "Here is an example of some of the samples in this dataset:"
   ]
  },
  {
   "cell_type": "code",
   "execution_count": null,
   "id": "008f6944",
   "metadata": {},
   "outputs": [],
   "source": [
    "df.head()"
   ]
  },
  {
   "cell_type": "code",
   "execution_count": null,
   "id": "070bf0c7",
   "metadata": {},
   "outputs": [],
   "source": [
    "cvs = ds.Canvas(plot_width=850, plot_height=500)\n",
    "agg = cvs.points(df, 'longitude', 'latitude')\n",
    "img = ds.tf.shade(agg, cmap=colorcet.CET_L4, how='eq_hist')\n",
    "ds.tf.set_background(img, \"black\") "
   ]
  },
  {
   "cell_type": "markdown",
   "id": "fe134ff2",
   "metadata": {},
   "source": [
    "This output is simple an RGB image which illustrates the following features of datashader:\n",
    "\n",
    "*Datashader features (2016)*\n",
    "\n",
    "| Whole dataset | No overplotting | Full dynamic range |\n",
    "| --- | --- | --- |\n",
    "| ✔️ | ✔️ | ✔️ |\n",
    "\n",
    "However, it is equally clear to anyone used to client-side, interactive plotting that a lot of key features required for data exploration are missing.\n",
    "\n",
    "## 3. Comparison to interactive plotting\n",
    "\n",
    "As the visualization above is clearly very limited in its interactivity, it is instructive to compare this output with what is possible with a interactive plotting library. Here we will use Bokeh (bokeh.org) to plot a small subset of the data."
   ]
  },
  {
   "cell_type": "code",
   "execution_count": null,
   "id": "2ef11e48",
   "metadata": {},
   "outputs": [],
   "source": [
    "subset = df.sample(frac=0.005)\n",
    "print('There are {:d}  samples in this subset of the dataset '.format(len(subset)))"
   ]
  },
  {
   "cell_type": "code",
   "execution_count": null,
   "id": "aaaf9cb6",
   "metadata": {},
   "outputs": [],
   "source": [
    "import hvplot.pandas\n",
    "subset.hvplot(x='easting', y='northing', tiles='ESRI', kind='points',\n",
    "              xlabel='longitude', ylabel='latitude', width=900, height=400, hover_cols=list(subset.columns))"
   ]
  },
  {
   "cell_type": "markdown",
   "id": "96f29e6b",
   "metadata": {},
   "source": [
    "Tthe overplotting issue are apparent even with this small slice of the data and we are unable to view the full data distribution. However, we have gained many useful interactive features for exploring the data samples:\n",
    "\n",
    "*Bokeh features (2016)*\n",
    "\n",
    "| Whole dataset | No overplotting | Full dynamic range | Panning | Zooming | Tiles | Query | Inspect |\n",
    "| --- | --- | --- | --- | --- | --- | --- | --- |\n",
    "| ❌ | ❌ | ❌ | ✔️| ✔️| ✔️| ❌| ✔️|\n",
    "\n",
    "* **'Querying'** means using all the samples found to build a summary.\n",
    "* **'Inspect'** means being able to see a subset of representative samples.\n"
   ]
  },
  {
   "cell_type": "markdown",
   "id": "4040d055",
   "metadata": {},
   "source": [
    "## 4. Interactive zooming and panning\n",
    "\n",
    "In 2017, HoloViews added interactive support for datashader using its streams system which integrates with the Bokeh event system. In 2018, the hvplot (hvplot.holoviz.org) project exposed this functionality with a simpler API that is more familiar to many users.\n",
    "\n",
    "### Using datashade (RGB image)\n",
    "\n",
    "With hvplot, you can apply datashader with server-side `eq_hist` (histogram equalization) colormapping with the option `datashade=True`:"
   ]
  },
  {
   "cell_type": "code",
   "execution_count": null,
   "id": "64cd82e5",
   "metadata": {},
   "outputs": [],
   "source": [
    "df.hvplot(x='easting', y='northing', tiles='ESRI', kind='points', \n",
    "              xlabel='longitude', ylabel='latitude', datashade=True, \n",
    "          width=900, height=400, cmap=colorcet.CET_L4 )"
   ]
  },
  {
   "cell_type": "markdown",
   "id": "08738efe",
   "metadata": {},
   "source": [
    "Many of the most critical interactive features are now available but there is still no colorbar and no point querying or inspection. This is because datashader is generating an RGB image which is an inappropriate format for these features:\n",
    "\n",
    "*HoloViews (2017), hvPlot (2018)*\n",
    "\n",
    "| Whole dataset | No overplotting | Full dynamic range | Panning | Zooming | Tiles | Colorbar | Query | Inspect |\n",
    "| --- | --- | --- | --- | --- | --- | --- | --- | --- |\n",
    "| ✔️ | ✔️ | ✔️ | ✔️| ✔️| ✔️| ❌ | ❌ | ❌ |\n",
    "\n",
    "\n",
    "### Using rasterize\n",
    "\n",
    "Alternatively, you can request that datashader skip the server-side colormapping to output the raw aggregated values to the browser, allowing client-side colormapping. This is achieved with the option `rasterize=True`:"
   ]
  },
  {
   "cell_type": "code",
   "execution_count": null,
   "id": "ae44adee",
   "metadata": {},
   "outputs": [],
   "source": [
    "df.hvplot(x='easting', y='northing', tiles='ESRI', kind='points', \n",
    "          xlabel='longitude', ylabel='latitude', rasterize=True, \n",
    "          cmap=colorcet.CET_L4 , colorbar=True, cnorm='log', width=900, height=400) \n",
    "# Until recently, could only use linear or log colormapping in cnorm"
   ]
  },
  {
   "cell_type": "markdown",
   "id": "45a07dab",
   "metadata": {},
   "source": [
    "Now we have client-side colormapping, the colorbar can be enabled again. The issue now is that until 2021, only linear and log colormapping was available which do not expose the full dynamic range of the data. In addition, the only inspection available is of the aggregated datashader output and not the original data associated with each sample.\n",
    "\n",
    "*HoloViews (2017), hvPlot (2018)*\n",
    "\n",
    "\n",
    "| Whole dataset | No overplotting | Full dynamic range | Panning | Zooming | Tiles | Colorbar | Query | Inspect |\n",
    "| --- | --- | --- | --- | --- | --- | --- | --- | --- |\n",
    "| ✔️ | ✔️ | ❌ | ✔️| ✔️| ✔️| ✔️ | ❌ | ❌ |\n"
   ]
  },
  {
   "cell_type": "markdown",
   "id": "e891890a",
   "metadata": {},
   "source": [
    "### Bokeh `eq_hist` colormapping\n",
    "\n",
    "In Bokeh 2.2, support for histogram equalization colormapping (i.e. `eq_hist`) was added. This means that this colormapping approach can now be used on the output of `rasterize`, exposing the full dynamic range of the data together with a colorbar:"
   ]
  },
  {
   "cell_type": "code",
   "execution_count": null,
   "id": "ac4c4e8e",
   "metadata": {},
   "outputs": [],
   "source": [
    "df.hvplot(x='easting', y='northing', tiles='ESRI', kind='points', \n",
    "          xlabel='longitude', ylabel='latitude', rasterize=True, \n",
    "          cmap=colorcet.CET_L4, colorbar=True, cnorm='eq_hist', width=900, height=400) "
   ]
  },
  {
   "cell_type": "markdown",
   "id": "cbac46a3",
   "metadata": {},
   "source": [
    "Now we have all the desired interactive plotting features familiar with small datasets except for the ability to inspect individual samples:\n",
    "\n",
    "*HoloViews (2021), hvPlot (2021)*\n",
    "\n",
    "| Whole dataset | No overplotting | Full dynamic range | Panning | Zooming | Tiles | Colorbar | Query | Inspect |\n",
    "| --- | --- | --- | --- | --- | --- | --- | --- | --- |\n",
    "| ✔️ | ✔️ | ✔️ | ✔️| ✔️| ✔️| ✔️ | ❌ | ❌ |\n",
    "\n",
    "\n",
    "As this table shows, every feature excluding inspection can be achieved with the current [hvplot API](https://hvplot.holoviz.org/). You can learn more about what is possible with `hvplot` at our tutorial tomorrow afternoon!"
   ]
  },
  {
   "cell_type": "markdown",
   "id": "e362db3f",
   "metadata": {},
   "source": [
    "## 5. Querying data samples\n",
    "\n",
    "**Problem statement**: *When I see something interesting in the rasterized display, how can I easily view information based **all** the datapoints in the area of interest?*\n",
    "\n",
    "While all datapoints in the region of interest are available, the default behavior is to display information about the **closest** sample to the cursor given its position on a raster image. \n",
    "\n",
    "With HoloViews, you can follow the pipeline backwards from the rasterized output of datashader back to the original raw data. This means you can first get the mouse position in the data coordinates of the plot. Then by following the pipeline back to the original dataframe, you can then filter the data down to a small window around that cursor location to find a small number of candidate samples and then the single closest sample. This sample can then be displayed as a Bokeh glyph with the appropriate hover information.\n",
    "\n",
    "Using the HoloViews API, we can declare a tile source and then wrap our raw datas in a `hv.Points` object which we then rasterize and overlay over this tile source:\n"
   ]
  },
  {
   "cell_type": "code",
   "execution_count": null,
   "id": "db155aa0",
   "metadata": {},
   "outputs": [],
   "source": [
    "import holoviews as hv\n",
    "esri = hv.element.tiles.ESRI().redim(x='easting', y='northing').opts(xlim=(1.5e4,4.22e5), ylim=(6.25e6,6.7e6))\n",
    "points = hv.Points(df, kdims=['easting', 'northing'])\n",
    "raster = hv.operation.datashader.rasterize(points).opts(cmap=colorcet.CET_L4, \n",
    "                                                        cnorm='eq_hist', width=800, height=400, colorbar=True)\n",
    "esri * raster"
   ]
  },
  {
   "cell_type": "markdown",
   "id": "a6ec46a9",
   "metadata": {},
   "source": [
    "Using the `inspect` operation we can build a `highlight` object that makes inspection information available:"
   ]
  },
  {
   "cell_type": "code",
   "execution_count": null,
   "id": "f6857026",
   "metadata": {},
   "outputs": [],
   "source": [
    "highlight   = hv.operation.datashader.inspect(raster)\n",
    "esri * raster * highlight.opts(marker='o', size=10, fill_alpha=0, color='white',  tools=[\"hover\"])"
   ]
  },
  {
   "cell_type": "markdown",
   "id": "161bd6c7",
   "metadata": {},
   "source": [
    "Inspections also works for polygon/shape data as demonstrated in the [`nyc_buildings`](https://examples.pyviz.org/nyc_buildings/nyc_buildings.html#nyc-buildings-gallery-nyc-buildings) example (interactive exploration of buildings in NYC)"
   ]
  },
  {
   "cell_type": "markdown",
   "id": "0509ccf0",
   "metadata": {},
   "source": [
    "### Pros and cons of spatial querying\n",
    "\n",
    "This querying approach does not rely on any mechanisms in datashader. As such is has the following pros and cons:\n",
    "\n",
    "*Pros*:\n",
    "\n",
    "* Access to *all* samples in a defined area around the cursor\n",
    "* This allows you to compute accurate aggregates, no matter how many samples contributed to a pixel.\n",
    "\n",
    "Cons:\n",
    "\n",
    "* Has to run a slow spatial filter on the whole dataframe to find relevant samples (spatial indexing can help)\n",
    "* Works interactively at WebGL scales but does not scale to the really massive data sizes datashader can handle\n",
    "* As a result, this cannot be enabled by default"
   ]
  },
  {
   "cell_type": "markdown",
   "id": "a046dbd9",
   "metadata": {},
   "source": [
    "With this feature  we now have many of the interactive plotting conveniences familiar when working with small data but for much larger datasets:\n",
    "\n",
    "*HoloViews (2021, version 1.14.4 with further integration and improvements planned)*\n",
    "\n",
    "| Whole dataset | No overplotting | Full dynamic range | Panning | Zooming | Tiles | Colorbar | Query | Inspect |\n",
    "| --- | --- | --- | --- | --- | --- | --- | --- | --- |\n",
    "| ✔️ | ✔️ | ✔️ | ✔️| ✔️| ✔️| ✔️ | ✔️ | ❌ |\n",
    "\n",
    "Due to this scaling issue, we cannot use this approach for hover inspection when there are >10 million samples."
   ]
  },
  {
   "cell_type": "markdown",
   "id": "c7c7841d",
   "metadata": {},
   "source": [
    "## 6. Instant hover inspection\n",
    "\n",
    "*Datashader (2023)*\n",
    "\n",
    "*(Will be available in an upcoming `holoviews` and `hvplot` release soon!)*\n",
    "\n",
    "**Problem statement**: *When I see something interesting in the rasterized display, how can I easily see data about a representative/informative sample for any data set size?\n",
    "\n",
    "Using Datashader support, the slow step of spatial filtering can be skipped by computing the appropriate indices in the same pass that builds the visual image.\n"
   ]
  },
  {
   "cell_type": "markdown",
   "id": "2780e645",
   "metadata": {},
   "source": [
    "## How it works - index arrays\n",
    "\n",
    "Datashader supports 'selectors' which are used to find the indexes of the inputs, which is then used to lookup the other values in the data. Effort is made to ensure all aggregation requires only a single datashader pass (i.e. the data is traversed once).\n",
    "\n",
    "### Selectors\n",
    "\n",
    "Here is the current set of selectors in datashader that work with this approach:\n",
    "\n",
    "- `ds.min(<column>)`: Find the index of the sample with the minimum `<column>` value\n",
    "- `ds.max(<column>)`: Find the index of the sample with the maximum `<column>` value\n",
    "- `ds.first(<column>)`: Find the index of the first sample aggregated from `<column>`\n",
    "- `ds.last(<column>)`: Find the index of the last sample aggregated from `<column>`\n",
    "\n",
    "Using the `ds.max` selector, here is the index array for the gulls with the maximum altitude above sea-level:"
   ]
  },
  {
   "cell_type": "code",
   "execution_count": null,
   "id": "ed91f539",
   "metadata": {},
   "outputs": [],
   "source": [
    "raster = hv.operation.datashader.rasterize(hv.Points(df, ['easting', 'northing']), \n",
    "                                           selector=ds.max(\"height-above-msl\"), dynamic=False)\n",
    "hv.Image(raster.data['index']).opts(width=800, height=400, tools=['hover'])"
   ]
  },
  {
   "cell_type": "markdown",
   "id": "69476978",
   "metadata": {},
   "source": [
    "This index array allows us to expose hover information without a separate (slow) spatial filtering step. Here is the gull visualization where the hover information shows the seagull with the highest altitude above mean sea level:"
   ]
  },
  {
   "cell_type": "code",
   "execution_count": null,
   "id": "0feac1cb",
   "metadata": {},
   "outputs": [],
   "source": [
    "points = hv.Points(df, ['easting', 'northing'])\n",
    "raster = hv.operation.datashader.rasterize(points, selector=ds.max(\"height-above-msl\")).opts(\n",
    "    tools=[\"hover\"], colorbar=True, cmap=colorcet.CET_L4,  width=800, height=400, cnorm=\"eq_hist\")\n",
    "esri * raster"
   ]
  },
  {
   "cell_type": "markdown",
   "id": "9b18f206",
   "metadata": {},
   "source": [
    "\n",
    "\n",
    "| Whole dataset | No overplotting | Full dynamic range | Panning | Zooming | Tiles | Colorbar | Query | Inspect |\n",
    "| --- | --- | --- | --- | --- | --- | --- | --- | --- |\n",
    "| ✔️ | ✔️ | ✔️ | ✔️| ✔️| ✔️| ✔️ | ✔️ | ✔️ |\n"
   ]
  },
  {
   "cell_type": "markdown",
   "id": "86a79c03",
   "metadata": {},
   "source": [
    "### Non-geo example of dimensionality reduction\n",
    "\n",
    "Demo!\n",
    "\n",
    "### Example with 211 million samples...\n",
    "\n",
    "* [`ship_traffic`](https://examples.pyviz.org/ship_traffic/ship_traffic.html#ship-traffic-gallery-ship-traffic): This example shows the inspection approach working on 211 million AIS pings for ships sailing around the west coast of the US. This are transponder pings that record (among other things) the ship's position, type and heading. This example uses custom hooks to show a table of the inspected point as well as a photograph of the ship (when available).\n"
   ]
  },
  {
   "cell_type": "markdown",
   "id": "f0df14af",
   "metadata": {},
   "source": [
    "## 7. Using panel to turn this into a servable dashboard\n",
    "\n",
    "This new functionality is part of the wider HoloViz (holoviz.org) ecosystem which allows you to turn these kind of visualizations into dashboards using panel (panel.holoviz.org).\n",
    "\n",
    "The `panel serve` command will serve any panel marked `.servable()` in the notebook as a dashboard. To learn more about [panel](https://panel.holoviz.org/) and how to quickly turn notebooks into dashboards, visit the [holoviz tutorial](https://holoviz.org/tutorial/index.html)."
   ]
  },
  {
   "cell_type": "code",
   "execution_count": null,
   "id": "c9bfede7",
   "metadata": {},
   "outputs": [],
   "source": [
    "import panel as pn\n",
    "template = pn.template.FastListTemplate(title=\"Gull tracking dashboard\")\n",
    "\n",
    "points = hv.Points(df, kdims=['easting', 'northing'])\n",
    "raster = hv.operation.datashader.rasterize(points, selector=ds.max(\"height-above-msl\")).opts(\n",
    "    tools=[\"hover\"], colorbar=True, cmap=colorcet.CET_L4,  responsive=True, cnorm=\"eq_hist\")\n",
    "esri * raster\n",
    "overlay = esri * raster.opts(cmap='fire', cnorm='eq_hist', min_height=400)\n",
    "description = \"\"\"\n",
    "This dashboard shows how easy it is to go from an aggregate view of 2.4 million points\n",
    "down to the details of a single GPS sample.\n",
    "\"\"\"\n",
    "template.main.append(pn.Column(description, overlay, sizing_mode='stretch_both' ))\n",
    "template.servable();"
   ]
  },
  {
   "cell_type": "markdown",
   "id": "98e70ae9",
   "metadata": {},
   "source": [
    "## 8. Ongoing work and Conclusion\n",
    "\n",
    "Since the initial release of datashader in 2016, the HoloViz ecosystem has worked to make interactive plotting features available for working with large datasets. With the addition of client-side `eq_hist` colormapping in Bokeh, the new `inspect` operation and instant hover, it is now possible to work with large data in the same way as you can currently work with smaller datasets.\n",
    "\n",
    "This means you can see *all* your data (gigabytes at a time) while also allowing you to interactively link and drilldown to view the detailed information for subsets and individual data points.\n",
    "\n",
    "\n",
    "Of course there are always more improvements in progress that will be available soon:\n",
    "\n",
    "* Bokeh now supports categorical color mixing! This feature will be available in `holoviews` and `hvplot` soon:\n",
    "\n",
    "<img width='70%' src=\"./assets/colormixing.png\"/>\n",
    "\n",
    "* Datashader now has antialised lines and aims for first-class support for timeseries data. Work is ongoing to allow antialiasing as well as the `where` aggregator.\n"
   ]
  },
  {
   "cell_type": "markdown",
   "id": "9ef0179c",
   "metadata": {},
   "source": [
    "### To learn more about HoloViz, please visit `holoviz.org` and all are welcome to join the [EuroPython HoloViz Panel Sprints!](https://ep2023.europython.eu/sprints#holoviz-panel)"
   ]
  },
  {
   "cell_type": "markdown",
   "id": "d8a5dbfb",
   "metadata": {},
   "source": [
    "## 9. Acknowledgements\n",
    "\n",
    "HoloViz is now a [NUMFOCUS sponsored project!](https://numfocus.org/project/holoviz)"
   ]
  },
  {
   "cell_type": "markdown",
   "id": "b7136217",
   "metadata": {},
   "source": [
    "<img src=\"./assets/numfocus.png\"/>"
   ]
  },
  {
   "cell_type": "markdown",
   "id": "9d05bf78",
   "metadata": {},
   "source": [
    "<img src=\"./assets/contributors.svg\"/>"
   ]
  },
  {
   "cell_type": "markdown",
   "id": "66ba0e4c",
   "metadata": {},
   "source": [
    "# 10. Questions?\n"
   ]
  },
  {
   "cell_type": "markdown",
   "id": "16ed9e5e",
   "metadata": {},
   "source": [
    "## Preprocessing the data\n",
    "\n",
    "The raw data can be found online [here](https://zenodo.org/record/3541812/files/HG_OOSTENDE-gps-2018.csv). If you download this CSV file to `./data/HG_OOSTENDE-gps-2018.csv`, you can apply the basic cleanup needed to generate `gulls.parq` using the script included here:\n",
    "\n",
    "<br>\n",
    "\n",
    "<details>\n",
    "    <br><tt>\n",
    "import numpy as np <br>\n",
    "import pandas as pd <br>\n",
    "from holoviews.util.transform import lon_lat_to_easting_northing <br><br>\n",
    "\n",
    "usecols = ['location-long', 'location-lat', 'external-temperature', 'heading', 'height-above-msl']<br>\n",
    "df = pd.read_csv('./data/HG_OOSTENDE-gps-2018.csv', usecols=usecols)<br>\n",
    "df.columns = ['longitude', 'latitude', 'temperature', 'heading', 'height-above-msl']<br><br>\n",
    "\n",
    "sliced = df[(df['longitude'] > 0) & (df['longitude'] < 4) & (df['latitude'] > 49) & (df['latitude'] < 51.5)]<br><br>\n",
    "\n",
    "x,y = lon_lat_to_easting_northing(sliced.longitude, sliced.latitude)<br>\n",
    "projected = sliced.join([pd.DataFrame({'easting': x}), pd.DataFrame({'northing': y})])<br>\n",
    "projected.to_parquet('./data/gulls.parq', 'fastparquet', compression='gzip',<br>\n",
    "                     file_scheme='simple')<br>\n",
    "</tt>\n",
    "</details>"
   ]
  }
 ],
 "metadata": {
  "kernelspec": {
   "display_name": "Python 3 (ipykernel)",
   "language": "python",
   "name": "python3"
  },
  "language_info": {
   "codemirror_mode": {
    "name": "ipython",
    "version": 3
   },
   "file_extension": ".py",
   "mimetype": "text/x-python",
   "name": "python",
   "nbconvert_exporter": "python",
   "pygments_lexer": "ipython3",
   "version": "3.8.0"
  }
 },
 "nbformat": 4,
 "nbformat_minor": 5
}
